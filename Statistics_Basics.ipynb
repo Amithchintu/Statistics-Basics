{
  "nbformat": 4,
  "nbformat_minor": 0,
  "metadata": {
    "colab": {
      "provenance": [],
      "authorship_tag": "ABX9TyNRfZ5ESOcO7MN2nhPLbPCa",
      "include_colab_link": true
    },
    "kernelspec": {
      "name": "python3",
      "display_name": "Python 3"
    },
    "language_info": {
      "name": "python"
    }
  },
  "cells": [
    {
      "cell_type": "markdown",
      "metadata": {
        "id": "view-in-github",
        "colab_type": "text"
      },
      "source": [
        "<a href=\"https://colab.research.google.com/github/Amithchintu/Statistics-Basics/blob/main/Statistics_Basics.ipynb\" target=\"_parent\"><img src=\"https://colab.research.google.com/assets/colab-badge.svg\" alt=\"Open In Colab\"/></a>"
      ]
    },
    {
      "cell_type": "markdown",
      "source": [
        " # 1. Explain the different types of data (qualitative and quantitative) and provide examples of each. Discuss nominal, ordinal, interval, and ratio scales.\n",
        "\n",
        "# Types of Data\n",
        "# Qualitative Data:\n",
        "\n",
        "# Definition: This type of data is descriptive and conceptual. It can be observed but not measured.\n",
        "\n",
        "# Examples: Colors, names, labels, gender, or any other attribute that can be categorized but not quantified.\n",
        "\n",
        "# Quantitative Data:\n",
        "\n",
        "# Definition: This type of data is numerical and can be measured.\n",
        "\n",
        "# Examples: Heights, weights, temperatures, and any other numerical values.\n",
        "\n",
        "# Scales of Measurement\n",
        "# Nominal Scale:\n",
        "\n",
        "# Definition: This scale is used for labeling variables without any quantitative value. Nominal scales are categorical.\n",
        "\n",
        "# Examples: Gender (male, female), eye color (blue, green, brown), and types of cuisine (Italian, Chinese, Mexican).\n",
        "\n",
        "# Ordinal Scale:\n",
        "\n",
        "# Definition: This scale arranges variables in a specific order but does not quantify the difference between them.\n",
        "\n",
        "# Examples: Class rankings (1st, 2nd, 3rd), customer satisfaction levels (satisfied, neutral, dissatisfied), and education levels (high school, bachelor's, master's)\n",
        "\n",
        "# Interval Scale:\n",
        "\n",
        "# Definition: This scale not only arranges variables in order but also measures the exact difference between them. However, it does not have a true zero point.\n",
        "\n",
        "# Examples: Temperature (Celsius, Fahrenheit), IQ scores, and SAT scores.\n",
        "\n",
        "# Ratio Scale:\n",
        "\n",
        "# Definition: This scale has all the properties of an interval scale, and it also has a true zero point, allowing for the calculation of ratios.\n",
        "\n",
        "# Examples: Height, weight, age, and income.\n",
        "\n",
        "# Understanding these distinctions is crucial for data analysis, as it informs the appropriate statistical techniques and interpretations."
      ],
      "metadata": {
        "id": "DA2GC39TItpA"
      }
    },
    {
      "cell_type": "markdown",
      "source": [
        "#  2. What are the measures of central tendency, and when should you use each? Discuss the mean, median, and mode with examples and situations where each is appropriate.\n",
        "\n",
        "# Measures of Central Tendency\n",
        "# Definition: The mean is the sum of all values divided by the number of values. It gives us an overall average\n",
        "# Formula:\n",
        "# Mean\n",
        "=\n",
        "# ∑𝑥/n\n",
        "\n",
        "# Example: For the data set [10, 20, 30, 40, 50], the mean is 10+20+30+40+50/5=30.\n",
        "\n",
        "# When to Use: Use the mean when you have a symmetrical distribution without outliers. It's useful for continuous data and when all values are equally important.\n",
        "\n",
        "# Median:\n",
        "\n",
        "# Definition: The median is the middle value when the data set is ordered from least to greatest. If the data set has an even number of observations, the median is the average of the two middle numbers.\n",
        "\n",
        "# Example: For the data set [10, 20, 30, 40, 50], the median is 30. For the data set [10, 20, 30, 40], the median is 20+30/2=25.\n",
        "\n",
        "# When to Use: Use the median when you have a skewed distribution or outliers, as it is not affected by extreme values. It's also useful for ordinal data.\n",
        "\n",
        "# Mode:\n",
        "\n",
        "# Definition: The mode is the value that appears most frequently in a data set.\n",
        "\n",
        "# Example: For the data set [10, 20, 20, 30, 40, 40, 40, 50], the mode is 40.\n",
        "\n",
        "# When to Use: Use the mode when you have categorical data or need to identify the most common item in a data set. It's useful when the most frequent value is of interest.\n",
        "\n",
        "# Comparison of Measures\n",
        "# Mean: Best for normally distributed data without outliers.\n",
        "\n",
        "# Median: Best for skewed distributions or data with outliers.\n",
        "\n",
        "# Mode: Best for categorical data or identifying the most frequent value.\n",
        "\n",
        "# Understanding when to use each measure helps in accurately summarizing and interpreting data."
      ],
      "metadata": {
        "id": "KYZGt98uM0rt"
      }
    },
    {
      "cell_type": "markdown",
      "source": [
        "# 3. Explain the concept of dispersion. How do variance and standard deviation measure the spread of data?\n",
        "# Dispersion is a statistical term that describes the extent to which data points in a dataset vary or spread out. It provides insight into the distribution of data, indicating whether the data points are closely packed together or widely scattered. Understanding dispersion helps in interpreting the reliability and variability of the data.\n",
        "\n",
        "# Key Concepts of Dispersion:\n",
        "# Range: The difference between the maximum and minimum values in a dataset.\n",
        "\n",
        "# Formula: Range = Maximum value - Minimum value\n",
        "\n",
        "# Example: For the dataset [10, 20, 30, 40, 50], the range is\n",
        "# 50-10=40.\n",
        "\n",
        "# Variance: A measure of how far each data point in the set is from the mean and thus from every other data point. It provides a squared deviation of each data point from the mean.\n",
        "\n",
        "# Formula: 𝜎2=∑(𝑥𝑖−𝜇)2/N\n",
        "\n",
        "# 𝜎2 = variance\n",
        "\n",
        "# 𝑥𝑖 = each individual data point\n",
        "\n",
        "# 𝜇 = mean of the data points\n",
        "\n",
        "# 𝑁 = number of data points\n",
        "\n",
        "# Standard Deviation: The square root of the variance, providing a measure of the spread of data points in the same units as the original data.\n",
        "\n",
        "# Formula: 𝜎= root 𝜎2\n",
        "\n",
        "# 𝜎 = standard deviation\n",
        "\n",
        "# 𝜎2 = variance\n",
        "\n",
        "# When to Use Variance and Standard Deviation:\n",
        "# Variance:\n",
        "\n",
        "# Use variance when you need a mathematical measure of data spread. It's especially useful in statistical theory and for calculations in inferential statistics.\n",
        "\n",
        "# It's easier to work with in algebraic expressions and during variance analysis in data.\n",
        "\n",
        "# Standard Deviation:\n",
        "\n",
        "# Use standard deviation when you need to understand the spread of data in the context of the original units of measure. It's more intuitive and easier to interpret compared to variance.\n",
        "\n",
        "# Useful in comparing the dispersion of two datasets with the same mean but different spreads.\n",
        "\n",
        "# Helps in assessing the reliability and consistency of data.\n",
        "\n",
        "# Example Scenario:\n",
        "# Imagine you are analyzing the test scores of two different classes. Both classes have the same mean score of 70, but you notice that the scores in Class A range from 60 to 80, while the scores in Class B range from 40 to 100. By calculating the variance and standard deviation, you would find that Class B has a higher standard deviation, indicating a wider spread of scores compared to Class A. This information could help in understanding the variability in student performance between the two classes.\n",
        "\n",
        "# Dispersion measures like variance and standard deviation are crucial in statistics because they provide a deeper understanding of data variability, beyond just central tendency measures like the mean."
      ],
      "metadata": {
        "id": "4x2icoexQ81k"
      }
    },
    {
      "cell_type": "markdown",
      "source": [
        "# 4. What is a box plot, and what can it tell you about the distribution of data?\n",
        "# A box plot, also known as a box-and-whisker plot, is a standardized way of displaying the distribution of data based on a five-number summary: minimum, first quartile (Q1), median (Q2), third quartile (Q3), and maximum. Box plots are useful for identifying the central tendency, spread, and potential outliers within a dataset.\n",
        "\n",
        "# Components of a Box Plot:\n",
        "# Minimum: The smallest data point, excluding outliers.\n",
        "\n",
        "# First Quartile (Q1): The median of the lower half of the dataset (25th percentile).\n",
        "\n",
        "# Median (Q2): The middle value of the dataset (50th percentile).\n",
        "\n",
        "# Third Quartile (Q3): The median of the upper half of the dataset (75th percentile).\n",
        "\n",
        "# Maximum: The largest data point, excluding outliers.\n",
        "\n",
        "# Interquartile Range (IQR): The range between the first and third quartiles (Q3 - Q1).\n",
        "\n",
        "# Visualization in a Box Plot:\n",
        "# Box: The central box represents the interquartile range (IQR), which contains the middle 50% of the data.\n",
        "\n",
        "# Whiskers: Lines extending from the box to the minimum and maximum values, indicating the range of the data.\n",
        "\n",
        "# Median Line: A line inside the box that shows the median of the data.\n",
        "\n",
        "# Outliers: Individual points plotted outside the whiskers, representing data points that are significantly higher or lower than the rest.\n",
        "\n",
        "# What a Box Plot Reveals:\n",
        "# Center: The median line inside the box shows the central tendency of the data.\n",
        "\n",
        "# Spread: The length of the box (IQR) and whiskers indicate the spread of the data. A longer box or whiskers suggest greater variability.\n",
        "\n",
        "# Skewness: If the median line is closer to the top or bottom of the box, it indicates a skew in the data. For example, a median closer to the bottom suggests a positive skew.\n",
        "\n",
        "# Outliers: Points outside the whiskers are outliers, indicating values that are significantly different from the rest of the data.\n",
        "\n",
        "# Example in Python:\n",
        "# Here's how you can create a box plot using Python's matplotlib library:"
      ],
      "metadata": {
        "id": "lxK2wcvTUfCQ"
      }
    },
    {
      "cell_type": "code",
      "execution_count": null,
      "metadata": {
        "id": "KyehmQV9zDAF",
        "colab": {
          "base_uri": "https://localhost:8080/",
          "height": 452
        },
        "outputId": "9e56d60f-2b6c-4814-dbf0-5c562ab46ae3"
      },
      "outputs": [
        {
          "output_type": "display_data",
          "data": {
            "text/plain": [
              "<Figure size 640x480 with 1 Axes>"
            ],
            "image/png": "[encoded data removed]"
          },
          "metadata": {}
        }
      ],
      "source": [
        "import matplotlib.pyplot as plt\n",
        "\n",
        "data = [10, 20, 20, 30, 40, 40, 40, 50, 60, 70, 80, 90, 100]\n",
        "\n",
        "plt.boxplot(data)\n",
        "plt.title('Box Plot Example')\n",
        "plt.ylabel('Values')\n",
        "plt.show()"
      ]
    },
    {
      "cell_type": "markdown",
      "source": [
        "# Interpretation Example:\n",
        "# Imagine you have test scores from a class: [55, 60, 70, 80, 85, 90, 95, 100]. A box plot of this data might show:\n",
        "\n",
        "# Median: Around 85, indicating that half of the students scored above 85 and half below.\n",
        "\n",
        "# IQR: From about 70 to 95, showing the middle 50% of scores.\n",
        "\n",
        "# Whiskers: Extending from 55 to 100, indicating the full range of scores.\n",
        "\n",
        "# Outliers: If a student scored 50 or 105, these points would appear outside the whiskers as outliers.\n",
        "\n",
        "# Box plots are powerful tools for quickly visualizing the distribution of data, identifying central tendencies, and spotting outliers."
      ],
      "metadata": {
        "id": "Vz8Wnuz_Isvq"
      }
    },
    {
      "cell_type": "markdown",
      "source": [
        "# 5. Discuss the role of random sampling in making inferences about populations.\n",
        "# Random Sampling\n",
        "# Random sampling is a technique where each member of a population has an equal chance of being selected to participate in a study. This approach ensures that the sample is representative of the entire population, minimizing bias and allowing for more accurate inferences.\n",
        "\n",
        "# Why Random Sampling Matters\n",
        "# Representation:\n",
        "\n",
        "# Ensures that the sample mirrors the diversity of the population.\n",
        "\n",
        "# Helps in capturing a wide range of characteristics, behaviors, and opinions.\n",
        "\n",
        "# Bias Reduction:\n",
        "\n",
        "# Minimizes selection bias, which can occur if certain groups are overrepresented or underrepresented.\n",
        "\n",
        "# Leads to more reliable and valid results.\n",
        "\n",
        "# Generalizability:\n",
        "\n",
        "# Allows researchers to generalize the findings from the sample to the entire population.\n",
        "\n",
        "# Facilitates making predictions and drawing conclusions about the population based on the sample data.\n",
        "\n",
        "# Methods of Random Sampling\n",
        "# Simple Random Sampling:\n",
        "\n",
        "# Each member of the population has an equal chance of being selected.\n",
        "\n",
        "# Example: Drawing names from a hat.\n",
        "\n",
        "# Stratified Random Sampling:\n",
        "\n",
        "# The population is divided into subgroups (strata) based on a characteristic, and a random sample is taken from each stratum.\n",
        "\n",
        "# Example: Dividing a population by age groups and randomly sampling within each group.\n",
        "\n",
        "# Systematic Sampling:\n",
        "\n",
        "# Every nth member of the population is selected after a random starting point.\n",
        "\n",
        "# Example: Selecting every 10th person from a list of names.\n",
        "\n",
        "# Cluster Sampling:\n",
        "\n",
        "# The population is divided into clusters, and entire clusters are randomly selected.\n",
        "\n",
        "# Example: Randomly selecting certain schools and surveying all students within those schools.\n",
        "\n",
        "# Making Inferences\n",
        "# By using random sampling, researchers can:\n",
        "\n",
        "# Estimate Population Parameters:\n",
        "\n",
        "# Calculate measures such as mean, proportion, and standard deviation for the sample.\n",
        "\n",
        "# Use these sample statistics to estimate the corresponding population parameters.\n",
        "\n",
        "# Test Hypotheses:\n",
        "\n",
        "# Apply statistical tests to determine if observed differences or relationships in the sample are likely to exist in the population.\n",
        "\n",
        "# Example: Conducting a t-test to compare the means of two groups.\n",
        "\n",
        "# Construct Confidence Intervals:\n",
        "\n",
        "# Provide a range of values within which the population parameter is likely to fall.\n",
        "\n",
        "# Example: Estimating the average height of a population with a 95% confidence interval.\n",
        "\n",
        "# Example in Python\n",
        "# Here's a simple example of random sampling in Python using the random library:"
      ],
      "metadata": {
        "id": "Q0HYIGJMX6XC"
      }
    },
    {
      "cell_type": "code",
      "source": [
        "import random\n",
        "\n",
        "population = list(range(1, 101))  # Population from 1 to 100\n",
        "sample_size = 10\n",
        "\n",
        "# Simple random sampling\n",
        "sample = random.sample(population, sample_size)\n",
        "print(\"Random Sample:\", sample)"
      ],
      "metadata": {
        "colab": {
          "base_uri": "https://localhost:8080/"
        },
        "id": "WZYbopWOZDsB",
        "outputId": "0435e5ef-db8d-4b1a-d1e2-164bc9b0dc49"
      },
      "execution_count": null,
      "outputs": [
        {
          "output_type": "stream",
          "name": "stdout",
          "text": [
            "Random Sample: [21, 15, 73, 65, 60, 39, 61, 59, 9, 72]\n"
          ]
        }
      ]
    },
    {
      "cell_type": "markdown",
      "source": [
        "# Conclusion\n",
        "# Random sampling is a cornerstone of statistical analysis. It ensures that the sample accurately represents the population, reduces bias, and enables researchers to make valid inferences about the population. Whether estimating population parameters, testing hypotheses, or constructing confidence intervals, random sampling plays a crucial role in producing reliable and generalizable results."
      ],
      "metadata": {
        "id": "-vnMDPNAZL8I"
      }
    },
    {
      "cell_type": "markdown",
      "source": [
        "#  6. Explain the concept of skewness and its types. How does skewness affect the interpretation of data?\n",
        "\n",
        "# Skewness is a measure of the asymmetry of the probability distribution of a real-valued random variable. It indicates the direction and relative magnitude of the distribution's deviation from the normal distribution, which is symmetrical.\n",
        "\n",
        "# Types of Skewness\n",
        "# Positive Skewness (Right-Skewed):\n",
        "\n",
        "# Definition: When the tail on the right side of the distribution is longer or fatter than the left side.\n",
        "\n",
        "# Characteristics: Most of the data points are concentrated on the left, and the tail points towards higher values.\n",
        "\n",
        "# Example: Income distribution often exhibits positive skewness, where a majority of people earn a moderate income, and a small number of people earn exceptionally high incomes.\n",
        "\n",
        "# Negative Skewness (Left-Skewed):\n",
        "\n",
        "# Definition: When the tail on the left side of the distribution is longer or fatter than the right side.\n",
        "\n",
        "# Characteristics: Most of the data points are concentrated on the right, and the tail points towards lower values.\n",
        "\n",
        "# Example: Age at retirement can exhibit negative skewness, where most people retire at an older age, but a few retire early.\n",
        "\n",
        "# Zero Skewness (Symmetrical Distribution):\n",
        "\n",
        "# Definition: When the data is perfectly symmetrical, meaning the left and right sides of the distribution are mirror images.\n",
        "\n",
        "# Characteristics: The mean, median, and mode are all the same.\n",
        "\n",
        "# Example: Heights of adult men in a population often approximate a symmetrical distribution.\n",
        "\n",
        "# Impact of Skewness on Data Interpretation\n",
        "# Mean, Median, and Mode:\n",
        "\n",
        "# In a positively skewed distribution, the mean is greater than the median, which is greater than the mode (Mean > Median > Mode).\n",
        "\n",
        "# In a negatively skewed distribution, the mean is less than the median, which is less than the mode (Mean < Median < Mode).\n",
        "\n",
        "# In a symmetrical distribution, the mean, median, and mode are equal.\n",
        "\n",
        "# Data Analysis and Reporting:\n",
        "\n",
        "# Positively Skewed Data: The mean is influenced by the higher values, which can give a misleading impression of the central tendency. The median is often a better measure of central tendency in this case.\n",
        "\n",
        "# Negatively Skewed Data: The mean is influenced by the lower values, which can also be misleading. The median provides a more accurate measure of central tendency.\n",
        "\n",
        "# Symmetrical Data: The mean, median, and mode can all be used interchangeably to represent the central tendency.\n",
        "\n",
        "# Decision Making:\n",
        "\n",
        "# Skewness affects statistical analysis techniques and the interpretation of results. For instance, many statistical tests assume normality, and skewness indicates deviations from this assumption.\n",
        "\n",
        "# Understanding skewness helps in choosing appropriate statistical methods and accurately communicating findings.\n",
        "\n",
        "# Example in Python\n",
        "# Here's how you can calculate skewness using Python's scipy.stats library:\n",
        "\n"
      ],
      "metadata": {
        "id": "I3kUSJx1ZZJT"
      }
    },
    {
      "cell_type": "code",
      "source": [
        "import numpy as np\n",
        "from scipy.stats import skew\n",
        "\n",
        "# Example data\n",
        "data = [10, 20, 20, 30, 40, 40, 40, 50, 60, 70, 80, 90, 100]\n",
        "\n",
        "# Calculate skewness\n",
        "data_skewness = skew(data)\n",
        "print(\"Skewness:\", data_skewness)  # Positive skewness"
      ],
      "metadata": {
        "colab": {
          "base_uri": "https://localhost:8080/"
        },
        "id": "NsXeF1IEZGFy",
        "outputId": "0cdc03c1-7ad6-439e-f921-a9b2eb4b1c20"
      },
      "execution_count": null,
      "outputs": [
        {
          "output_type": "stream",
          "name": "stdout",
          "text": [
            "Skewness: 0.36799003609699366\n"
          ]
        }
      ]
    },
    {
      "cell_type": "markdown",
      "source": [
        "# Visualizing Skewness with Box Plot\n"
      ],
      "metadata": {
        "id": "arVABUkka3GC"
      }
    },
    {
      "cell_type": "code",
      "source": [
        "# import matplotlib.pyplot as plt\n",
        "\n",
        "plt.boxplot(data)\n",
        "plt.title('Box Plot Showing Skewness')\n",
        "plt.ylabel('Values')\n",
        "plt.show()"
      ],
      "metadata": {
        "colab": {
          "base_uri": "https://localhost:8080/",
          "height": 452
        },
        "id": "eCS-7zACawo_",
        "outputId": "aaf3e3c4-0d71-4c89-be3d-f58d22a515fd"
      },
      "execution_count": null,
      "outputs": [
        {
          "output_type": "display_data",
          "data": {
            "text/plain": [
              "<Figure size 640x480 with 1 Axes>"
            ],
            "image/png": "[encoded data removed]"
          },
          "metadata": {}
        }
      ]
    },
    {
      "cell_type": "markdown",
      "source": [
        "# Summary\n",
        "# Skewness provides valuable information about the distribution of data. Positive skewness indicates a distribution with a longer tail on the right, negative skewness indicates a longer tail on the left, and zero skewness indicates symmetry. Recognizing skewness helps in selecting appropriate statistical techniques and accurately interpreting data, ensuring more reliable and valid results."
      ],
      "metadata": {
        "id": "b0JzowP3bDRr"
      }
    },
    {
      "cell_type": "markdown",
      "source": [
        " # 7. What is the interquartile range (IQR), and how is it used to detect outliers?\n",
        " # The Interquartile Range (IQR) is a measure of statistical dispersion, or how spread out the values in a dataset are. It specifically measures the range within which the middle 50% of the values lie, effectively capturing the central spread of the data by excluding the extreme values.\n",
        "\n",
        " # Calculation of IQR\n",
        "# The IQR is calculated as the difference between the third quartile (Q3) and the first quartile (Q1):\n",
        "\n",
        "# IQR = 𝑄3−𝑄1\n",
        "\n",
        "# Q1 (First Quartile): The median of the first half of the dataset (25th percentile).\n",
        "\n",
        "# Q3 (Third Quartile): The median of the second half of the dataset (75th percentile)\n",
        "\n",
        "# Using IQR to Detect Outliers\n",
        "# Outliers are values that fall significantly outside the range of the rest of the data. The IQR method identifies outliers by determining if a data point lies beyond a certain distance from the quartiles. Specifically, a common rule is to flag values that are either:\n",
        "\n",
        "# Below 𝑄1−1.5×IQR\n",
        "\n",
        "# Above 𝑄3+1.5×IQR\n",
        "\n",
        "# Steps to Detect Outliers with IQR\n",
        "# Calculate Q1 and Q3: Determine the first and third quartiles of the dataset.\n",
        "\n",
        "# Compute IQR: Subtract Q1 from Q3 to find the interquartile range.\n",
        "\n",
        "# Determine Bounds:\n",
        "\n",
        "# Lower Bound: 𝑄1−1.5×IQR\n",
        "\n",
        "# Upper Bound: 𝑄3+1.5×IQR\n",
        "\n",
        "# Identify Outliers: Flag any data points outside these bounds as outliers.\n",
        "\n",
        "# Example in Python\n",
        "# Let's use Python to calculate the IQR and identify outliers in a dataset:"
      ],
      "metadata": {
        "id": "VGhTlsoBbSaw"
      }
    },
    {
      "cell_type": "code",
      "source": [
        "import numpy as np\n",
        "\n",
        "# Example data\n",
        "data = [10, 20, 20, 30, 40, 40, 40, 50, 60, 70, 80, 90, 100]\n",
        "\n",
        "# Calculate Q1, Q3, and IQR\n",
        "Q1 = np.percentile(data, 25)\n",
        "Q3 = np.percentile(data, 75)\n",
        "IQR = Q3 - Q1\n",
        "\n",
        "# Determine bounds for outliers\n",
        "lower_bound = Q1 - 1.5 * IQR\n",
        "upper_bound = Q3 + 1.5 * IQR\n",
        "\n",
        "# Identify outliers\n",
        "outliers = [x for x in data if x < lower_bound or x > upper_bound]\n",
        "\n",
        "print(\"Q1:\", Q1)\n",
        "print(\"Q3:\", Q3)\n",
        "print(\"IQR:\", IQR)\n",
        "print(\"Lower Bound:\", lower_bound)\n",
        "print(\"Upper Bound:\", upper_bound)\n",
        "print(\"Outliers:\", outliers)"
      ],
      "metadata": {
        "colab": {
          "base_uri": "https://localhost:8080/"
        },
        "id": "lg3CDXYba9Pw",
        "outputId": "80d3bd14-8beb-4c27-cb2c-d40a3ecefee8"
      },
      "execution_count": null,
      "outputs": [
        {
          "output_type": "stream",
          "name": "stdout",
          "text": [
            "Q1: 30.0\n",
            "Q3: 70.0\n",
            "IQR: 40.0\n",
            "Lower Bound: -30.0\n",
            "Upper Bound: 130.0\n",
            "Outliers: []\n"
          ]
        }
      ]
    },
    {
      "cell_type": "markdown",
      "source": [
        "# Interpretation\n",
        "# IQR: Represents the middle 50% of the data. For example, if Q1 is 20 and Q3 is 70, then the IQR is 50.\n",
        "\n",
        "# Outliers: Any data points outside the bounds are considered outliers. For example, if the lower bound is 0 and the upper bound is 90, any values below 0 or above 90 would be outliers.\n",
        "\n",
        "# Summary\n",
        "# The IQR is a robust measure of dispersion as it focuses on the central portion of the data, reducing the influence of outliers. Using the IQR to detect outliers helps ensure that any extreme values are identified and can be further investigated to understand whether they are due to variability in the data or errors."
      ],
      "metadata": {
        "id": "gKTM6hCadRH3"
      }
    },
    {
      "cell_type": "markdown",
      "source": [
        "# 8. Discuss the conditions under which the binomial distribution is used.\n",
        "# The binomial distribution is a discrete probability distribution that models the number of successes in a fixed number of trials of a binary experiment. This means that each trial results in one of two possible outcomes: success or failure.\n",
        "\n",
        "# Conditions for Using the Binomial Distribution:\n",
        "# Fixed Number of Trials (n):\n",
        "\n",
        "# The experiment is repeated a fixed number of times.\n",
        "\n",
        "# Example: Tossing a coin 10 times.\n",
        "\n",
        "# Binary Outcomes:\n",
        "\n",
        "# Each trial has only two possible outcomes: success (usually denoted by 1) and failure (usually denoted by 0).\n",
        "\n",
        "# Example: Heads or tails in a coin toss.\n",
        "\n",
        "# Constant Probability of Success (p):\n",
        "\n",
        "# The probability of success remains the same for each trial.\n",
        "\n",
        "# Example: The probability of getting heads in a fair coin toss is always 0.5.\n",
        "\n",
        "# Independent Trials:\n",
        "\n",
        "# The outcome of each trial is independent of the outcomes of the other trials.\n",
        "\n",
        "# Example: The result of one coin toss does not affect the result of the next coin toss.\n",
        "\n",
        "# Binomial Distribution Formula\n",
        "# The probability of obtaining exactly 𝑘 successes in 𝑛 trials is given by the binomial probability formula:\n",
        "\n",
        "# 𝑃(𝑋=𝑘)=(𝑛/𝑘)𝑝𝑘(1−𝑝)𝑛−𝑘\n",
        "# Where:\n",
        "\n",
        "# (𝑛/𝑘) is the binomial coefficient (also known as \"n choose k\"),\n",
        "\n",
        "# 𝑝 is the probability of success on each trial,\n",
        "\n",
        "# 𝑘 is the number of successes,\n",
        "\n",
        "# 𝑛 is the total number of trials.\n",
        "\n",
        "# Example Use Case\n",
        "# Imagine you are conducting an experiment where you flip a fair coin 10 times and want to know the probability of getting exactly 6 heads.\n",
        "\n",
        "# In this case:\n",
        "\n",
        "# 𝑛=10(number of trials),\n",
        "\n",
        "# 𝑘=6(number of successes),\n",
        "\n",
        "# 𝑝=0.5(probability of getting heads).\n",
        "\n",
        "# Using the binomial formula:\n",
        "\n",
        "# 𝑃(𝑋=6)=(10/6)(0.5)6(0.5)4\n",
        "\n",
        "# Python Example\n",
        "# Here's how you can calculate this in Python using the scipy.stats library:"
      ],
      "metadata": {
        "id": "kSNgPycMdo5W"
      }
    },
    {
      "cell_type": "code",
      "source": [
        "from scipy.stats import binom\n",
        "\n",
        "# Parameters\n",
        "n = 10   # number of trials\n",
        "p = 0.5  # probability of success\n",
        "k = 6    # number of successes\n",
        "\n",
        "# Calculate binomial probability\n",
        "probability = binom.pmf(k, n, p)\n",
        "print(f\"The probability of getting exactly {k} heads in {n} coin flips is {probability:.4f}\")"
      ],
      "metadata": {
        "colab": {
          "base_uri": "https://localhost:8080/"
        },
        "id": "IaxiO-qwdMYN",
        "outputId": "8338798d-a704-4637-cc0b-f330642acf3b"
      },
      "execution_count": null,
      "outputs": [
        {
          "output_type": "stream",
          "name": "stdout",
          "text": [
            "The probability of getting exactly 6 heads in 10 coin flips is 0.2051\n"
          ]
        }
      ]
    },
    {
      "cell_type": "markdown",
      "source": [
        "# Summary\n",
        "# The binomial distribution is a powerful tool for modeling scenarios with fixed numbers of binary trials, constant probabilities of success, and independent trials. It helps in understanding the likelihood of different outcomes and is widely used in fields such as quality control, medical research, and marketing."
      ],
      "metadata": {
        "id": "J6ECZpCjghg8"
      }
    },
    {
      "cell_type": "markdown",
      "source": [
        "#  9. Explain the properties of the normal distribution and the empirical rule (68-95-99.7 rule).\n",
        "# Properties of the Normal Distribution\n",
        "# The normal distribution, also known as the Gaussian distribution, is a continuous probability distribution that is symmetrical around its mean. It is one of the most important distributions in statistics due to its many useful properties.\n",
        "# Symmetry:\n",
        "\n",
        "# The normal distribution is perfectly symmetrical around the mean. This means that the left side of the distribution is a mirror image of the right side.\n",
        "\n",
        "# Mean, Median, and Mode:\n",
        "\n",
        "# In a normal distribution, the mean, median, and mode are all equal and located at the center of the distribution.\n",
        "\n",
        "# Bell-Shaped Curve:\n",
        "\n",
        "# The shape of the normal distribution is often referred to as a bell curve due to its bell-like shape.\n",
        "\n",
        "# Asymptotic:\n",
        "\n",
        "# The tails of the distribution approach the horizontal axis but never touch it. This means that the probability of extreme values is low, but never zero.\n",
        "\n",
        "# Defined by Mean and Standard Deviation:\n",
        "\n",
        "# The distribution is completely defined by its mean (µ) and standard deviation (σ). The mean determines the location of the center, and the standard deviation determines the spread.\n",
        "\n",
        "# The Empirical Rule (68-95-99.7 Rule)\n",
        "# The empirical rule provides a quick estimate of the spread of data in a normal distribution. It states that:\n",
        "\n",
        "# 68% Rule:\n",
        "\n",
        "# Approximately 68% of the data falls within one standard deviation (±1σ) of the mean.\n",
        "\n",
        "# This means that if the mean is 0 and the standard deviation is 1, then about 68% of the data lies between -1 and 1.\n",
        "\n",
        "# 95% Rule:\n",
        "\n",
        "# Approximately 95% of the data falls within two standard deviations (±2σ) of the mean.\n",
        "\n",
        "# This means that about 95% of the data lies between -2 and 2.\n",
        "\n",
        "# 99.7% Rule:\n",
        "\n",
        "# Approximately 99.7% of the data falls within three standard deviations (±3σ) of the mean.\n",
        "\n",
        "# This means that about 99.7% of the data lies between -3 and 3.\n",
        "\n",
        "# Visualization\n",
        "# Here's how the empirical rule looks on a normal distribution:\n",
        "\n",
        "|     -3σ   -2σ    -1σ     0     1σ    2σ     3σ    |\n",
        "|------|------|------|------|------|------|------|---->\n",
        "|  0.1%  |  2.1%  | 13.6% | 34% | 34% | 13.6% |  2.1%  | 0.1%\n",
        "|<------------- 68%  ------------->\n",
        "|<------------------ 95% ------------------>\n",
        "|<--------------------- 99.7% ------------------->\n",
        "\n",
        "# Example in Python\n",
        "# Here's a simple example of generating a normal distribution and applying the empirical rule using Python:"
      ],
      "metadata": {
        "id": "aV8AFm8jhEKi"
      }
    },
    {
      "cell_type": "code",
      "source": [
        "import numpy as np\n",
        "import matplotlib.pyplot as plt\n",
        "\n",
        "# Generate a normal distribution\n",
        "mean = 0\n",
        "std_dev = 1\n",
        "data = np.random.normal(mean, std_dev, 1000)\n",
        "\n",
        "# Plot the data\n",
        "plt.hist(data, bins=30, density=True, alpha=0.6, color='g')\n",
        "\n",
        "# Plot the standard deviation lines\n",
        "plt.axvline(mean - std_dev, color='r', linestyle='dashed', linewidth=1)\n",
        "plt.axvline(mean + std_dev, color='r', linestyle='dashed', linewidth=1)\n",
        "plt.axvline(mean - 2*std_dev, color='b', linestyle='dashed', linewidth=1)\n",
        "plt.axvline(mean + 2*std_dev, color='b', linestyle='dashed', linewidth=1)\n",
        "plt.axvline(mean - 3*std_dev, color='y', linestyle='dashed', linewidth=1)\n",
        "plt.axvline(mean + 3*std_dev, color='y', linestyle='dashed', linewidth=1)\n",
        "\n",
        "plt.title('Normal Distribution and Empirical Rule')\n",
        "plt.xlabel('Value')\n",
        "plt.ylabel('Frequency')\n",
        "plt.show()"
      ],
      "metadata": {
        "colab": {
          "base_uri": "https://localhost:8080/",
          "height": 472
        },
        "id": "C9HHeTAUgXoA",
        "outputId": "4e96e72b-d964-4aff-807c-22a3e09e8f47"
      },
      "execution_count": null,
      "outputs": [
        {
          "output_type": "display_data",
          "data": {
            "text/plain": [
              "<Figure size 640x480 with 1 Axes>"
            ],
            "image/png": "[encoded data removed]"
          },
          "metadata": {}
        }
      ]
    },
    {
      "cell_type": "markdown",
      "source": [
        "# Summary\n",
        "# The normal distribution is a key concept in statistics, characterized by its symmetrical bell shape and defined by its mean and standard deviation. The empirical rule helps in understanding the spread of data around the mean, providing quick and practical insights into the distribution of data. This rule is essential for making predictions and decisions based on normally distributed data."
      ],
      "metadata": {
        "id": "XWoC4UCajBmn"
      }
    },
    {
      "cell_type": "markdown",
      "source": [
        "#  10. Provide a real-life example of a Poisson process and calculate the probability for a specific event.\n",
        "# A Poisson process models the number of events occurring within a fixed interval of time or space, given that these events happen independently of each other and at a constant average rate. This type of process is common in various fields, such as telecommunications, traffic flow, and biology.\n",
        "\n",
        "# Real-life Example: Call Center\n",
        "# Imagine a customer service call center that receives an average of 10 calls per hour. We want to calculate the probability that exactly 7 calls will be received in a specific hour.\n",
        "\n",
        "# Poisson Distribution Formula\n",
        "\n",
        "# The Poisson probability formula is:\n",
        "\n",
        "# 𝑃(𝑋=𝑘)=𝜆𝑘𝑒−𝜆/𝑘!\n",
        "\n",
        "# Where:\n",
        "\n",
        "# 𝜆 = average number of events in the interval (10 calls per hour)\n",
        "\n",
        "# 𝑘 = number of events we want to find the probability for (7 calls)\n",
        "\n",
        "# 𝑒 = Euler's number, approximately 2.71828\n",
        "\n",
        "# Calculation\n",
        "# Let's calculate the probability\n",
        "# 𝑃(𝑋=7):\n",
        "\n",
        "# Determine the Parameters:\n",
        "\n",
        "# 𝜆=10\n",
        "\n",
        "# 𝑘=7\n",
        "\n",
        "# Apply the Formula:\n",
        "\n",
        "# 𝑃(𝑋=7)=107𝑒−10/7!\n",
        "\n",
        "# 𝑃(𝑋=7)=107×𝑒−10/5040\n",
        "\n",
        "# Simplify the Calculation:\n"
      ],
      "metadata": {
        "id": "0Mwe-ylBjU57"
      }
    },
    {
      "cell_type": "code",
      "source": [
        "import math\n",
        "\n",
        "λ = 10\n",
        "k = 7\n",
        "\n",
        "probability = (λ**k * math.exp(-λ)) / math.factorial(k)\n",
        "print(f\"The probability of receiving exactly 7 calls in an hour is {probability:.4f}\")"
      ],
      "metadata": {
        "id": "tYB_9Krii3uD",
        "colab": {
          "base_uri": "https://localhost:8080/"
        },
        "outputId": "0dc7f65a-7732-4a92-c66e-057893bda793"
      },
      "execution_count": 1,
      "outputs": [
        {
          "output_type": "stream",
          "name": "stdout",
          "text": [
            "The probability of receiving exactly 7 calls in an hour is 0.0901\n"
          ]
        }
      ]
    },
    {
      "cell_type": "markdown",
      "source": [
        "# Summary\n",
        "# The Poisson process is an essential tool for modeling and understanding the occurrence of events over time or space. It helps predict and plan for various scenarios, ensuring efficient management of resources and response strategies."
      ],
      "metadata": {
        "id": "vbK-WCwiF0jy"
      }
    },
    {
      "cell_type": "markdown",
      "source": [
        " # 11. Explain what a random variable is and differentiate between discrete and continuous random variables.\n",
        "# Let's delve into the concept of random variables and the distinction between discrete and continuous types.\n",
        "\n",
        "# Random Variables\n",
        "# A random variable is a variable whose possible values are numerical outcomes of a random phenomenon. It essentially maps outcomes of a random process to numerical values, providing a way to quantify random events.\n",
        "\n",
        "# Types of Random Variables\n",
        "# Discrete Random Variables:\n",
        "\n",
        "# Definition: A discrete random variable takes on a countable number of distinct values.\n",
        "\n",
        "# Characteristics: The possible values can be listed (even if infinite). Typically represents counts of items or events.\n",
        "\n",
        "# Examples:\n",
        "\n",
        "# The number of heads in 10 coin flips.\n",
        "\n",
        "# The number of students in a classroom.\n",
        "\n",
        "# The number of goals scored in a soccer match."
      ],
      "metadata": {
        "id": "JP37zUY4GD6Z"
      }
    },
    {
      "cell_type": "code",
      "source": [
        "import numpy as np\n",
        "\n",
        "# Discrete random variable example\n",
        "possible_values = [0, 1, 2, 3, 4, 5]  # Number of goals\n",
        "probabilities = [0.1, 0.2, 0.3, 0.2, 0.1, 0.1]\n",
        "\n",
        "# Randomly sample from the discrete distribution\n",
        "sample = np.random.choice(possible_values, p=probabilities)\n",
        "print(\"Sample from discrete random variable:\", sample)\n"
      ],
      "metadata": {
        "colab": {
          "base_uri": "https://localhost:8080/"
        },
        "id": "iZvnUVUhFhTd",
        "outputId": "317e3e1a-0e70-43f6-eb65-8dd5dec24d68"
      },
      "execution_count": 2,
      "outputs": [
        {
          "output_type": "stream",
          "name": "stdout",
          "text": [
            "Sample from discrete random variable: 3\n"
          ]
        }
      ]
    },
    {
      "cell_type": "markdown",
      "source": [
        "# Continuous Random Variables:\n",
        "\n",
        "# Definition: A continuous random variable can take on an infinite number of possible values within a given range.\n",
        "\n",
        "# Characteristics: The values are not countable and can take any value within a specified interval. Typically represents measurements.\n",
        "\n",
        "# Examples:\n",
        "\n",
        "# The height of a person.\n",
        "\n",
        "# The time it takes to run a marathon.\n",
        "\n",
        "# The temperature on a given day.\n"
      ],
      "metadata": {
        "id": "J3V_zidTG7W8"
      }
    },
    {
      "cell_type": "code",
      "source": [
        "import numpy as np\n",
        "\n",
        "# Continuous random variable example\n",
        "mean = 0\n",
        "std_dev = 1\n",
        "\n",
        "# Randomly sample from the normal distribution\n",
        "sample = np.random.normal(mean, std_dev)\n",
        "print(\"Sample from continuous random variable:\", sample)\n"
      ],
      "metadata": {
        "colab": {
          "base_uri": "https://localhost:8080/"
        },
        "id": "iiRqjVJbG2Gb",
        "outputId": "d93c1ae5-e76c-4890-c1a4-2fb377b44c47"
      },
      "execution_count": 3,
      "outputs": [
        {
          "output_type": "stream",
          "name": "stdout",
          "text": [
            "Sample from continuous random variable: 1.4399865325686212\n"
          ]
        }
      ]
    },
    {
      "cell_type": "markdown",
      "source": [
        "# Summary\n",
        "# Discrete Random Variables: Take on countable values, often used for counting items or events.\n",
        "\n",
        "# Continuous Random Variables: Take on an infinite number of values within a range, often used for measuring quantities.\n",
        "\n",
        "# Understanding these types of random variables is crucial for selecting the appropriate statistical methods and interpreting data accurately"
      ],
      "metadata": {
        "id": "X23eGXYJHXDR"
      }
    },
    {
      "cell_type": "markdown",
      "source": [
        "#  12. Provide an example dataset, calculate both covariance and correlation, and interpret the results.\n",
        "# let's create an example dataset and calculate both covariance and correlation to interpret the results.\n",
        "\n",
        "# Example Dataset\n",
        "# Consider a dataset with two variables, X and Y, representing the hours studied and the corresponding scores on a test for a group of students."
      ],
      "metadata": {
        "id": "EYDwTBG4HgVr"
      }
    },
    {
      "cell_type": "code",
      "source": [
        "import numpy as np\n",
        "import pandas as pd\n",
        "\n",
        "# Example data\n",
        "data = {'Hours_Studied': [1, 2, 3, 4, 5, 6, 7, 8, 9, 10],\n",
        "        'Test_Scores': [50, 55, 60, 65, 70, 75, 80, 85, 90, 95]}\n",
        "df = pd.DataFrame(data)\n",
        "\n",
        "print(df)\n"
      ],
      "metadata": {
        "colab": {
          "base_uri": "https://localhost:8080/"
        },
        "id": "DU_rzLcEHI-e",
        "outputId": "3ec107a4-c03d-4a19-a1d9-1a8ed021bc1e"
      },
      "execution_count": 4,
      "outputs": [
        {
          "output_type": "stream",
          "name": "stdout",
          "text": [
            "   Hours_Studied  Test_Scores\n",
            "0              1           50\n",
            "1              2           55\n",
            "2              3           60\n",
            "3              4           65\n",
            "4              5           70\n",
            "5              6           75\n",
            "6              7           80\n",
            "7              8           85\n",
            "8              9           90\n",
            "9             10           95\n"
          ]
        }
      ]
    },
    {
      "cell_type": "markdown",
      "source": [
        "# Calculating Covariance\n",
        "# Covariance measures the directional relationship between two variables. If the covariance is positive, the variables tend to increase together. If it's negative, one variable tends to increase as the other decreases."
      ],
      "metadata": {
        "id": "lCkfSp0OHxHO"
      }
    },
    {
      "cell_type": "code",
      "source": [
        "# Calculate covariance matrix\n",
        "cov_matrix = np.cov(df['Hours_Studied'], df['Test_Scores'])\n",
        "print(\"Covariance matrix:\\n\", cov_matrix)\n"
      ],
      "metadata": {
        "colab": {
          "base_uri": "https://localhost:8080/"
        },
        "id": "tHvb2P0HHqsI",
        "outputId": "3561ff74-6fe5-4a84-db2d-3964d4bee35b"
      },
      "execution_count": 5,
      "outputs": [
        {
          "output_type": "stream",
          "name": "stdout",
          "text": [
            "Covariance matrix:\n",
            " [[  9.16666667  45.83333333]\n",
            " [ 45.83333333 229.16666667]]\n"
          ]
        }
      ]
    },
    {
      "cell_type": "markdown",
      "source": [
        "# Calculating Correlation\n",
        "# Correlation measures both the strength and direction of the linear relationship between two variables. The value ranges from -1 to 1. A value of 1 indicates a perfect positive linear relationship, -1 indicates a perfect negative linear relationship, and 0 indicates no linear relationship."
      ],
      "metadata": {
        "id": "fH1xEnwkH5SJ"
      }
    },
    {
      "cell_type": "code",
      "source": [
        "# Calculate correlation matrix\n",
        "corr_matrix = np.corrcoef(df['Hours_Studied'], df['Test_Scores'])\n",
        "print(\"Correlation matrix:\\n\", corr_matrix)\n"
      ],
      "metadata": {
        "colab": {
          "base_uri": "https://localhost:8080/"
        },
        "id": "CGAS-mxXH1w2",
        "outputId": "f2be6f08-09d9-4804-8583-5fafe3f10c23"
      },
      "execution_count": 6,
      "outputs": [
        {
          "output_type": "stream",
          "name": "stdout",
          "text": [
            "Correlation matrix:\n",
            " [[1. 1.]\n",
            " [1. 1.]]\n"
          ]
        }
      ]
    },
    {
      "cell_type": "markdown",
      "source": [
        "# Interpretation\n",
        "# Covariance:\n",
        "\n",
        "# The covariance matrix output might look like this (values may vary depending on your calculations):\n",
        "# [[ 9.16666667  9.16666667][ 9.16666667  9.16666667]]\n",
        "\n",
        "# The diagonal elements (9.17) are the variances of each variable (Hours_Studied and Test_Scores).\n",
        "\n",
        "# The off-diagonal elements (9.17) are the covariance values, indicating a positive relationship between hours studied and test scores.\n",
        "\n",
        "# Correlation:\n",
        "\n",
        "# The correlation matrix output might look like this:\n",
        "\n",
        "# [[1. 1.][1. 1.]]\n",
        "# A correlation of 1 between Hours_Studied and Test_Scores indicates a perfect positive linear relationship. As the number of hours studied increases, the test scores also increase proportionally.\n",
        "\n",
        "# Summary\n",
        "# Covariance provides an idea of the direction of the relationship between two variables but doesn't indicate the strength.\n",
        "\n",
        "# Correlation standardizes this measure, giving a clearer picture of both the strength and direction of the relationship.\n",
        "\n",
        "# This analysis shows that in our dataset, there is a strong positive relationship between the number of hours studied and test scores.\n"
      ],
      "metadata": {
        "id": "0giKAjcCIE9h"
      }
    },
    {
      "cell_type": "code",
      "source": [],
      "metadata": {
        "id": "soOTpp_OH9QQ"
      },
      "execution_count": null,
      "outputs": []
    }
  ]
}